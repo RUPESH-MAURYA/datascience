{
 "cells": [
  {
   "cell_type": "markdown",
   "metadata": {},
   "source": [
    "# IDF Implementation \n",
    "\n",
    "Calculating idf score for each word for given corpus/dataset and comparing it with idf score obtain from sklearn"
   ]
  },
  {
   "cell_type": "code",
   "execution_count": 89,
   "metadata": {},
   "outputs": [],
   "source": [
    "import pandas as pd\n",
    "from collections import Counter\n",
    "import math\n",
    "from scipy.sparse import csr_matrix\n",
    "from tqdm import tqdm\n",
    "from sklearn.preprocessing import normalize\n",
    "import numpy"
   ]
  },
  {
   "cell_type": "code",
   "execution_count": 90,
   "metadata": {},
   "outputs": [],
   "source": [
    "corpus = [\n",
    "     'this is the first document',\n",
    "     'this document is the second document',\n",
    "     'and this is the third one',\n",
    "     'is this the first document',]"
   ]
  },
  {
   "cell_type": "code",
   "execution_count": 91,
   "metadata": {},
   "outputs": [],
   "source": [
    "\n",
    "def fit(corpus):\n",
    "    '''\n",
    "    This function return the vocab and IDF value for the given corpus \n",
    "    '''\n",
    "    if isinstance(corpus,(list,)):# check if the coupus is in list form \n",
    "        vocab=set() # sote the unique words\n",
    "        IDF={}      # dict to store word as key and IDF as value \n",
    "        list_word=[] \n",
    "        for sentence in corpus: \n",
    "            # list_word store unique word in a given row/document i.e if word occur  \n",
    "            # more then once in row/documnet it will be stored only once and we do this \n",
    "            # with each document and number of time the word occur in list_word \n",
    "            # that will be the number of  document contain the word. \n",
    "            list_word.extend(set(sentence.split(' '))) #used extend to add values of set \n",
    "            \n",
    "            for word in sentence.split(' '): # storing the word greater then length of 2 \n",
    "                if len(word)>=2:\n",
    "                    vocab.add(word)\n",
    "        vocab=sorted(list(vocab))\n",
    "        vocab={j:i for i,j in enumerate(vocab)} # creating dict of unique word with key as word and value as index\n",
    "        # now using list word to get the number of documnet contains the words\n",
    "        word_occr=dict(Counter(list_word)) # create dict with key words and value the number of documnet countain the word\n",
    "        N=1+len(corpus) #total number of documents/corpus \n",
    "        for word in vocab.keys():\n",
    "            \n",
    "            n=1+word_occr[word] #number of documents which contains the word  \n",
    "            log_val=math.log(N/n)\n",
    "            IDF[word]=1+log_val\n",
    "        return vocab ,IDF\n",
    "    else:\n",
    "        print('Wrong Data type passed')\n",
    "   \n",
    "\n"
   ]
  },
  {
   "cell_type": "code",
   "execution_count": 92,
   "metadata": {},
   "outputs": [],
   "source": [
    "def transform(data,IDF,vocab):\n",
    "    if isinstance(data,(list,)):\n",
    "        rows=[]  # row number\n",
    "        column=[] # column number\n",
    "        tfidf=[]  # tfidf value\n",
    "        for idx,row in enumerate(tqdm(data)): \n",
    "            word_list1=dict(Counter(row.split(' '))) #this will give dict of word as key and number of time word occur in documnet \n",
    "           \n",
    "            for word,freq in word_list1.items():\n",
    "                if word in IDF.keys():\n",
    "                    #calculating tfidf value\n",
    "                    N=len(row)\n",
    "                    tf_val=freq/N\n",
    "                    tfidf_val=tf_val*IDF[word]\n",
    "                    \n",
    "                    rows.append(idx)           # store the row number \n",
    "                    column.append(vocab[word]) # store the column number or index of word in final vector\n",
    "                    tfidf.append(tfidf_val)   \n",
    "                else:\n",
    "                    #if word is not in IDF dict then ignore and continue  \n",
    "                    continue\n",
    "        csr_mat=csr_matrix((tfidf,(rows,column)),shape=(len(data),len(IDF)))   \n",
    "        return normalize(csr_mat,norm='l2')\n",
    "        \n",
    "    else:\n",
    "        print('Wrong Data type passed')\n",
    "        \n",
    "\n"
   ]
  },
  {
   "cell_type": "code",
   "execution_count": 94,
   "metadata": {},
   "outputs": [
    {
     "name": "stderr",
     "output_type": "stream",
     "text": [
      "100%|██████████████████████████████████████████████████████████████████████████████████| 4/4 [00:00<00:00, 3906.22it/s]"
     ]
    },
    {
     "name": "stdout",
     "output_type": "stream",
     "text": [
      "[[0.         0.46979139 0.58028582 0.38408524 0.         0.\n",
      "  0.38408524 0.         0.38408524]\n",
      " [0.         0.6876236  0.         0.28108867 0.         0.53864762\n",
      "  0.28108867 0.         0.28108867]\n",
      " [0.51184851 0.         0.         0.26710379 0.51184851 0.\n",
      "  0.26710379 0.51184851 0.26710379]\n",
      " [0.         0.46979139 0.58028582 0.38408524 0.         0.\n",
      "  0.38408524 0.         0.38408524]]\n"
     ]
    },
    {
     "name": "stderr",
     "output_type": "stream",
     "text": [
      "\n"
     ]
    }
   ],
   "source": [
    "#fitting the model\n",
    "vocab,IDF=fit(corpus) \n",
    "\n",
    "print(transform(corpus,IDF,vocab).toarray())"
   ]
  },
  {
   "cell_type": "code",
   "execution_count": 97,
   "metadata": {},
   "outputs": [
    {
     "name": "stdout",
     "output_type": "stream",
     "text": [
      "[1.916290731874155, 1.2231435513142097, 1.5108256237659907, 1.0, 1.916290731874155, 1.916290731874155, 1.0, 1.916290731874155, 1.0]\n"
     ]
    }
   ],
   "source": [
    "print(list(IDF.values()))"
   ]
  },
  {
   "cell_type": "code",
   "execution_count": 98,
   "metadata": {},
   "outputs": [
    {
     "name": "stdout",
     "output_type": "stream",
     "text": [
      "['and', 'document', 'first', 'is', 'one', 'second', 'the', 'third', 'this']\n"
     ]
    }
   ],
   "source": [
    "print (list(vocab.keys()))"
   ]
  },
  {
   "cell_type": "markdown",
   "metadata": {},
   "source": [
    "### Comparing with TfidfVectorizer"
   ]
  },
  {
   "cell_type": "code",
   "execution_count": 7,
   "metadata": {},
   "outputs": [],
   "source": [
    "from sklearn.feature_extraction.text import TfidfVectorizer\n",
    "vectorizer = TfidfVectorizer()\n",
    "vectorizer.fit(corpus)\n",
    "skl_output = vectorizer.transform(corpus)"
   ]
  },
  {
   "cell_type": "code",
   "execution_count": 25,
   "metadata": {},
   "outputs": [
    {
     "name": "stdout",
     "output_type": "stream",
     "text": [
      "['and', 'document', 'first', 'is', 'one', 'second', 'the', 'third', 'this']\n"
     ]
    }
   ],
   "source": [
    "print(vectorizer.get_feature_names())"
   ]
  },
  {
   "cell_type": "code",
   "execution_count": 26,
   "metadata": {},
   "outputs": [
    {
     "name": "stdout",
     "output_type": "stream",
     "text": [
      "[1.91629073 1.22314355 1.51082562 1.         1.91629073 1.91629073\n",
      " 1.         1.91629073 1.        ]\n"
     ]
    }
   ],
   "source": [
    "print(vectorizer.idf_)"
   ]
  },
  {
   "cell_type": "code",
   "execution_count": 42,
   "metadata": {},
   "outputs": [
    {
     "name": "stdout",
     "output_type": "stream",
     "text": [
      "[[0.         0.46979139 0.58028582 0.38408524 0.         0.\n",
      "  0.38408524 0.         0.38408524]\n",
      " [0.         0.6876236  0.         0.28108867 0.         0.53864762\n",
      "  0.28108867 0.         0.28108867]\n",
      " [0.51184851 0.         0.         0.26710379 0.51184851 0.\n",
      "  0.26710379 0.51184851 0.26710379]\n",
      " [0.         0.46979139 0.58028582 0.38408524 0.         0.\n",
      "  0.38408524 0.         0.38408524]]\n"
     ]
    }
   ],
   "source": [
    "print(skl_output.toarray())"
   ]
  },
  {
   "cell_type": "markdown",
   "metadata": {},
   "source": [
    "#  Task 2 - Top 50 IFD Value"
   ]
  },
  {
   "cell_type": "code",
   "execution_count": 99,
   "metadata": {},
   "outputs": [
    {
     "name": "stdout",
     "output_type": "stream",
     "text": [
      "Number of documents in corpus =  746\n"
     ]
    }
   ],
   "source": [
    "# Below is the code to load the cleaned_strings pickle file provided\n",
    "# Here corpus is of list type\n",
    "\n",
    "import pickle\n",
    "with open('cleaned_strings', 'rb') as f:\n",
    "    corpus = pickle.load(f)\n",
    "    \n",
    "# printing the length of the corpus loaded\n",
    "print(\"Number of documents in corpus = \",len(corpus))"
   ]
  },
  {
   "cell_type": "code",
   "execution_count": 100,
   "metadata": {},
   "outputs": [],
   "source": [
    "import pandas as pd\n",
    "from collections import Counter\n",
    "import math\n",
    "from scipy.sparse import csr_matrix\n",
    "from tqdm import tqdm\n",
    "from sklearn.preprocessing import normalize\n",
    "import numpy"
   ]
  },
  {
   "cell_type": "code",
   "execution_count": 104,
   "metadata": {},
   "outputs": [],
   "source": [
    "def fit(corpus):\n",
    "    if isinstance(corpus,(list,)):\n",
    "        top_vocab=[] #to store top word with top IDF\n",
    "        vocab=set() #to store unique word in corpus\n",
    "        IDF={}     #to store IDF of all unique words\n",
    "        list_word=[]\n",
    "            # list_word store unique word in a given row/document i.e if word occur  \n",
    "            # more then once in row/documnet it will be stored only once and we do this \n",
    "            # with each document and number of time the word occur in list_word \n",
    "            # that will be the number of  document contain the word. \n",
    "        for sentence in corpus: \n",
    "            list_word.extend(set(sentence.split(' '))) #used extend to add values of set \n",
    "            \n",
    "            for word in sentence.split(' '):# storing the word greater then length of 2 \n",
    "                if len(word)>=2:\n",
    "                    vocab.add(word)\n",
    "        vocab=sorted(list(vocab))  # creating dict of unique word with key as word and value as index\n",
    "       \n",
    "    \n",
    "        # now using list word to get the number of documnet contains the words    \n",
    "        word_occr=dict(Counter(list_word))\n",
    "    \n",
    "    \n",
    "        #calculating IDF for each word in vocab\n",
    "        for word in vocab:\n",
    "            N=1+len(corpus)\n",
    "            n=1+word_occr[word]\n",
    "            log_val=math.log(N/n)\n",
    "            IDF[word]=1+log_val\n",
    "            \n",
    "        #sorting IDF and taking top 50 only    \n",
    "        top_idf={i:j for i,j in sorted(IDF.items(),key=lambda item:item[1],reverse=True)[:50]}\n",
    "        \n",
    "        top_vocab={j:i for i,j in enumerate(sorted(top_idf.keys()))}   \n",
    "        return top_vocab ,top_idf\n",
    "    else:\n",
    "        #if word is not in IDF dict then ignore and continue  \n",
    "        print('Wrong Data type passed')\n",
    "   "
   ]
  },
  {
   "cell_type": "code",
   "execution_count": 105,
   "metadata": {},
   "outputs": [],
   "source": [
    "def transform(data,IDF,vocab):\n",
    "    if isinstance(data,(list,)):\n",
    "        rows=[]\n",
    "        column=[]\n",
    "        tfidf=[]\n",
    "        for idx,row in enumerate(tqdm(data)):\n",
    "            word_list1=dict(Counter(row.split(' ')))#this will give dict of word as key and number\n",
    "                                                    #of time word occur in the documnet\n",
    "           \n",
    "            for word,freq in word_list1.items():\n",
    "                #calculating tfidf\n",
    "                if word in vocab.keys():\n",
    "                    N=len(row)\n",
    "                    tf_val=freq/N\n",
    "                    tfidf_val=tf_val*IDF[word]\n",
    "                   \n",
    "                    rows.append(idx) # store the row number \n",
    "                    \n",
    "                    column.append(vocab[word]) # store the column number or index of word in final vector\n",
    "                    \n",
    "                    tfidf.append(tfidf_val)   \n",
    "                else:\n",
    "                    continue\n",
    "        csr_mat=csr_matrix((tfidf,(rows,column)),shape=(len(data),len(vocab)))   \n",
    "        return normalize(csr_mat,norm='l2')\n",
    "        \n",
    "    else:\n",
    "        print('Wrong Data type passed')"
   ]
  },
  {
   "cell_type": "code",
   "execution_count": 106,
   "metadata": {},
   "outputs": [
    {
     "name": "stderr",
     "output_type": "stream",
     "text": [
      "100%|█████████████████████████████████████████████████████████████████████████████| 746/746 [00:00<00:00, 72014.33it/s]"
     ]
    },
    {
     "name": "stdout",
     "output_type": "stream",
     "text": [
      "  (0, 30)\t1.0\n",
      "  (68, 24)\t1.0\n",
      "  (72, 29)\t1.0\n",
      "  (74, 31)\t1.0\n",
      "  (119, 33)\t1.0\n",
      "  (135, 3)\t0.3779644730092272\n",
      "  (135, 10)\t0.3779644730092272\n",
      "  (135, 18)\t0.3779644730092272\n",
      "  (135, 20)\t0.3779644730092272\n",
      "  (135, 36)\t0.3779644730092272\n",
      "  (135, 40)\t0.3779644730092272\n",
      "  (135, 41)\t0.3779644730092272\n",
      "  (176, 49)\t1.0\n",
      "  (181, 13)\t1.0\n",
      "  (192, 21)\t1.0\n",
      "  (193, 23)\t1.0\n",
      "  (216, 2)\t1.0\n",
      "  (222, 47)\t1.0\n",
      "  (225, 19)\t1.0\n",
      "  (227, 17)\t1.0\n",
      "  (241, 44)\t1.0\n",
      "  (270, 1)\t1.0\n",
      "  (290, 25)\t1.0\n",
      "  (333, 26)\t1.0\n",
      "  (334, 15)\t1.0\n",
      "  (341, 43)\t1.0\n",
      "  (344, 42)\t1.0\n",
      "  (348, 8)\t1.0\n",
      "  (377, 37)\t1.0\n",
      "  (409, 5)\t1.0\n",
      "  (430, 39)\t1.0\n",
      "  (457, 45)\t1.0\n",
      "  (461, 4)\t1.0\n",
      "  (465, 38)\t1.0\n",
      "  (475, 35)\t1.0\n",
      "  (493, 6)\t1.0\n",
      "  (500, 48)\t1.0\n",
      "  (548, 0)\t0.7071067811865476\n",
      "  (548, 32)\t0.7071067811865476\n",
      "  (608, 14)\t1.0\n",
      "  (612, 11)\t1.0\n",
      "  (620, 46)\t1.0\n",
      "  (632, 7)\t1.0\n",
      "  (644, 12)\t0.7071067811865476\n",
      "  (644, 27)\t0.7071067811865476\n",
      "  (664, 28)\t1.0\n",
      "  (667, 22)\t1.0\n",
      "  (691, 34)\t1.0\n",
      "  (697, 9)\t1.0\n",
      "  (722, 16)\t1.0\n"
     ]
    },
    {
     "name": "stderr",
     "output_type": "stream",
     "text": [
      "\n"
     ]
    }
   ],
   "source": [
    "top_vocab,top_IDF=fit(corpus) \n",
    "# print(top_IDF.values())\n",
    "print(transform(corpus,top_IDF,top_vocab))"
   ]
  },
  {
   "cell_type": "code",
   "execution_count": 107,
   "metadata": {},
   "outputs": [
    {
     "name": "stdout",
     "output_type": "stream",
     "text": [
      "[6.922918004572872, 6.922918004572872, 6.922918004572872, 6.922918004572872, 6.922918004572872, 6.922918004572872, 6.922918004572872, 6.922918004572872, 6.922918004572872, 6.922918004572872, 6.922918004572872, 6.922918004572872, 6.922918004572872, 6.922918004572872, 6.922918004572872, 6.922918004572872, 6.922918004572872, 6.922918004572872, 6.922918004572872, 6.922918004572872, 6.922918004572872, 6.922918004572872, 6.922918004572872, 6.922918004572872, 6.922918004572872, 6.922918004572872, 6.922918004572872, 6.922918004572872, 6.922918004572872, 6.922918004572872, 6.922918004572872, 6.922918004572872, 6.922918004572872, 6.922918004572872, 6.922918004572872, 6.922918004572872, 6.922918004572872, 6.922918004572872, 6.922918004572872, 6.922918004572872, 6.922918004572872, 6.922918004572872, 6.922918004572872, 6.922918004572872, 6.922918004572872, 6.922918004572872, 6.922918004572872, 6.922918004572872, 6.922918004572872, 6.922918004572872]\n"
     ]
    }
   ],
   "source": [
    "print(list(top_IDF.values()))"
   ]
  },
  {
   "cell_type": "markdown",
   "metadata": {},
   "source": [
    "###### Comparing with TfidfVectorizer  top IDF values"
   ]
  },
  {
   "cell_type": "code",
   "execution_count": 109,
   "metadata": {},
   "outputs": [],
   "source": [
    "from sklearn.feature_extraction.text import TfidfVectorizer\n",
    "vectorizer = TfidfVectorizer()\n",
    "vectorizer.fit(corpus)\n",
    "skl_output = vectorizer.transform(corpus)"
   ]
  },
  {
   "cell_type": "code",
   "execution_count": 110,
   "metadata": {},
   "outputs": [
    {
     "name": "stdout",
     "output_type": "stream",
     "text": [
      "[6.922918004572872, 6.922918004572872, 6.922918004572872, 6.922918004572872, 6.922918004572872, 6.922918004572872, 6.922918004572872, 6.922918004572872, 6.922918004572872, 6.922918004572872, 6.922918004572872, 6.922918004572872, 6.922918004572872, 6.922918004572872, 6.922918004572872, 6.922918004572872, 6.922918004572872, 6.922918004572872, 6.922918004572872, 6.922918004572872, 6.922918004572872, 6.922918004572872, 6.922918004572872, 6.922918004572872, 6.922918004572872, 6.922918004572872, 6.922918004572872, 6.922918004572872, 6.922918004572872, 6.922918004572872, 6.922918004572872, 6.922918004572872, 6.922918004572872, 6.922918004572872, 6.922918004572872, 6.922918004572872, 6.922918004572872, 6.922918004572872, 6.922918004572872, 6.922918004572872, 6.922918004572872, 6.922918004572872, 6.922918004572872, 6.922918004572872, 6.922918004572872, 6.922918004572872, 6.922918004572872, 6.922918004572872, 6.922918004572872, 6.922918004572872]\n"
     ]
    }
   ],
   "source": [
    "#top 50 IDF values\n",
    "print(sorted(vectorizer.idf_,reverse=True)[:50])\n"
   ]
  },
  {
   "cell_type": "code",
   "execution_count": null,
   "metadata": {},
   "outputs": [],
   "source": []
  }
 ],
 "metadata": {
  "kernelspec": {
   "display_name": "Python 3",
   "language": "python",
   "name": "python3"
  },
  "language_info": {
   "codemirror_mode": {
    "name": "ipython",
    "version": 3
   },
   "file_extension": ".py",
   "mimetype": "text/x-python",
   "name": "python",
   "nbconvert_exporter": "python",
   "pygments_lexer": "ipython3",
   "version": "3.8.3"
  }
 },
 "nbformat": 4,
 "nbformat_minor": 4
}
